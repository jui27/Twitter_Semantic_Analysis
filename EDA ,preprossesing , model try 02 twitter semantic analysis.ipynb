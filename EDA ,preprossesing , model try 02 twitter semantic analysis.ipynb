{
 "cells": [
  {
   "cell_type": "code",
   "execution_count": null,
   "id": "e59eed90",
   "metadata": {},
   "outputs": [],
   "source": []
  },
  {
   "cell_type": "code",
   "execution_count": null,
   "id": "af1a4452",
   "metadata": {},
   "outputs": [],
   "source": []
  },
  {
   "cell_type": "code",
   "execution_count": 1,
   "id": "15d1ed7d",
   "metadata": {},
   "outputs": [],
   "source": [
    "import pandas as pd"
   ]
  },
  {
   "cell_type": "code",
   "execution_count": 2,
   "id": "92fe055c",
   "metadata": {},
   "outputs": [
    {
     "data": {
      "text/html": [
       "<div>\n",
       "<style scoped>\n",
       "    .dataframe tbody tr th:only-of-type {\n",
       "        vertical-align: middle;\n",
       "    }\n",
       "\n",
       "    .dataframe tbody tr th {\n",
       "        vertical-align: top;\n",
       "    }\n",
       "\n",
       "    .dataframe thead th {\n",
       "        text-align: right;\n",
       "    }\n",
       "</style>\n",
       "<table border=\"1\" class=\"dataframe\">\n",
       "  <thead>\n",
       "    <tr style=\"text-align: right;\">\n",
       "      <th></th>\n",
       "      <th>tweets</th>\n",
       "      <th>class</th>\n",
       "    </tr>\n",
       "  </thead>\n",
       "  <tbody>\n",
       "    <tr>\n",
       "      <th>0</th>\n",
       "      <td>Be aware  dirty step to get money  #staylight ...</td>\n",
       "      <td>figurative</td>\n",
       "    </tr>\n",
       "    <tr>\n",
       "      <th>1</th>\n",
       "      <td>#sarcasm for #people who don't understand #diy...</td>\n",
       "      <td>figurative</td>\n",
       "    </tr>\n",
       "    <tr>\n",
       "      <th>2</th>\n",
       "      <td>@IminworkJeremy @medsingle #DailyMail readers ...</td>\n",
       "      <td>figurative</td>\n",
       "    </tr>\n",
       "    <tr>\n",
       "      <th>3</th>\n",
       "      <td>@wilw Why do I get the feeling you like games?...</td>\n",
       "      <td>figurative</td>\n",
       "    </tr>\n",
       "    <tr>\n",
       "      <th>4</th>\n",
       "      <td>-@TeacherArthurG @rweingarten You probably jus...</td>\n",
       "      <td>figurative</td>\n",
       "    </tr>\n",
       "    <tr>\n",
       "      <th>...</th>\n",
       "      <td>...</td>\n",
       "      <td>...</td>\n",
       "    </tr>\n",
       "    <tr>\n",
       "      <th>81403</th>\n",
       "      <td>Photo: Image via We Heart It http://t.co/ky8Nf...</td>\n",
       "      <td>sarcasm</td>\n",
       "    </tr>\n",
       "    <tr>\n",
       "      <th>81404</th>\n",
       "      <td>I never knew..I better put this out to the Uni...</td>\n",
       "      <td>sarcasm</td>\n",
       "    </tr>\n",
       "    <tr>\n",
       "      <th>81405</th>\n",
       "      <td>hey just wanted to say thanks @ puberty for le...</td>\n",
       "      <td>sarcasm</td>\n",
       "    </tr>\n",
       "    <tr>\n",
       "      <th>81406</th>\n",
       "      <td>I'm sure coverage like the Fox News Special “T...</td>\n",
       "      <td>sarcasm</td>\n",
       "    </tr>\n",
       "    <tr>\n",
       "      <th>81407</th>\n",
       "      <td>@skeyno16 at u13?! I won't believe it until I ...</td>\n",
       "      <td>sarcasm</td>\n",
       "    </tr>\n",
       "  </tbody>\n",
       "</table>\n",
       "<p>81408 rows × 2 columns</p>\n",
       "</div>"
      ],
      "text/plain": [
       "                                                  tweets       class\n",
       "0      Be aware  dirty step to get money  #staylight ...  figurative\n",
       "1      #sarcasm for #people who don't understand #diy...  figurative\n",
       "2      @IminworkJeremy @medsingle #DailyMail readers ...  figurative\n",
       "3      @wilw Why do I get the feeling you like games?...  figurative\n",
       "4      -@TeacherArthurG @rweingarten You probably jus...  figurative\n",
       "...                                                  ...         ...\n",
       "81403  Photo: Image via We Heart It http://t.co/ky8Nf...     sarcasm\n",
       "81404  I never knew..I better put this out to the Uni...     sarcasm\n",
       "81405  hey just wanted to say thanks @ puberty for le...     sarcasm\n",
       "81406  I'm sure coverage like the Fox News Special “T...     sarcasm\n",
       "81407  @skeyno16 at u13?! I won't believe it until I ...     sarcasm\n",
       "\n",
       "[81408 rows x 2 columns]"
      ]
     },
     "execution_count": 2,
     "metadata": {},
     "output_type": "execute_result"
    }
   ],
   "source": [
    "df=pd.read_csv(\"tweet.csv\")\n",
    "df"
   ]
  },
  {
   "cell_type": "markdown",
   "id": "af554628",
   "metadata": {},
   "source": [
    "# Step 2: Data Preprocessing"
   ]
  },
  {
   "cell_type": "code",
   "execution_count": 3,
   "id": "fde1ae51",
   "metadata": {},
   "outputs": [],
   "source": [
    "import numpy as np\n",
    "import re\n",
    "from transformers import BertTokenizer"
   ]
  },
  {
   "cell_type": "code",
   "execution_count": 4,
   "id": "e5f778ae",
   "metadata": {},
   "outputs": [],
   "source": [
    "# Step 2.1: Remove duplicates, missing values, or irrelevant columns\n",
    "# Remove duplicate rows\n",
    "df = df.drop_duplicates()"
   ]
  },
  {
   "cell_type": "code",
   "execution_count": 5,
   "id": "599f65e0",
   "metadata": {},
   "outputs": [
    {
     "data": {
      "text/html": [
       "<div>\n",
       "<style scoped>\n",
       "    .dataframe tbody tr th:only-of-type {\n",
       "        vertical-align: middle;\n",
       "    }\n",
       "\n",
       "    .dataframe tbody tr th {\n",
       "        vertical-align: top;\n",
       "    }\n",
       "\n",
       "    .dataframe thead th {\n",
       "        text-align: right;\n",
       "    }\n",
       "</style>\n",
       "<table border=\"1\" class=\"dataframe\">\n",
       "  <thead>\n",
       "    <tr style=\"text-align: right;\">\n",
       "      <th></th>\n",
       "      <th>tweets</th>\n",
       "      <th>class</th>\n",
       "    </tr>\n",
       "  </thead>\n",
       "  <tbody>\n",
       "    <tr>\n",
       "      <th>0</th>\n",
       "      <td>Be aware  dirty step to get money  #staylight ...</td>\n",
       "      <td>figurative</td>\n",
       "    </tr>\n",
       "    <tr>\n",
       "      <th>1</th>\n",
       "      <td>#sarcasm for #people who don't understand #diy...</td>\n",
       "      <td>figurative</td>\n",
       "    </tr>\n",
       "    <tr>\n",
       "      <th>2</th>\n",
       "      <td>@IminworkJeremy @medsingle #DailyMail readers ...</td>\n",
       "      <td>figurative</td>\n",
       "    </tr>\n",
       "    <tr>\n",
       "      <th>3</th>\n",
       "      <td>@wilw Why do I get the feeling you like games?...</td>\n",
       "      <td>figurative</td>\n",
       "    </tr>\n",
       "    <tr>\n",
       "      <th>4</th>\n",
       "      <td>-@TeacherArthurG @rweingarten You probably jus...</td>\n",
       "      <td>figurative</td>\n",
       "    </tr>\n",
       "    <tr>\n",
       "      <th>...</th>\n",
       "      <td>...</td>\n",
       "      <td>...</td>\n",
       "    </tr>\n",
       "    <tr>\n",
       "      <th>81403</th>\n",
       "      <td>Photo: Image via We Heart It http://t.co/ky8Nf...</td>\n",
       "      <td>sarcasm</td>\n",
       "    </tr>\n",
       "    <tr>\n",
       "      <th>81404</th>\n",
       "      <td>I never knew..I better put this out to the Uni...</td>\n",
       "      <td>sarcasm</td>\n",
       "    </tr>\n",
       "    <tr>\n",
       "      <th>81405</th>\n",
       "      <td>hey just wanted to say thanks @ puberty for le...</td>\n",
       "      <td>sarcasm</td>\n",
       "    </tr>\n",
       "    <tr>\n",
       "      <th>81406</th>\n",
       "      <td>I'm sure coverage like the Fox News Special “T...</td>\n",
       "      <td>sarcasm</td>\n",
       "    </tr>\n",
       "    <tr>\n",
       "      <th>81407</th>\n",
       "      <td>@skeyno16 at u13?! I won't believe it until I ...</td>\n",
       "      <td>sarcasm</td>\n",
       "    </tr>\n",
       "  </tbody>\n",
       "</table>\n",
       "<p>81359 rows × 2 columns</p>\n",
       "</div>"
      ],
      "text/plain": [
       "                                                  tweets       class\n",
       "0      Be aware  dirty step to get money  #staylight ...  figurative\n",
       "1      #sarcasm for #people who don't understand #diy...  figurative\n",
       "2      @IminworkJeremy @medsingle #DailyMail readers ...  figurative\n",
       "3      @wilw Why do I get the feeling you like games?...  figurative\n",
       "4      -@TeacherArthurG @rweingarten You probably jus...  figurative\n",
       "...                                                  ...         ...\n",
       "81403  Photo: Image via We Heart It http://t.co/ky8Nf...     sarcasm\n",
       "81404  I never knew..I better put this out to the Uni...     sarcasm\n",
       "81405  hey just wanted to say thanks @ puberty for le...     sarcasm\n",
       "81406  I'm sure coverage like the Fox News Special “T...     sarcasm\n",
       "81407  @skeyno16 at u13?! I won't believe it until I ...     sarcasm\n",
       "\n",
       "[81359 rows x 2 columns]"
      ]
     },
     "execution_count": 5,
     "metadata": {},
     "output_type": "execute_result"
    }
   ],
   "source": [
    "df"
   ]
  },
  {
   "cell_type": "code",
   "execution_count": 6,
   "id": "a821e34c",
   "metadata": {},
   "outputs": [
    {
     "data": {
      "text/html": [
       "<div>\n",
       "<style scoped>\n",
       "    .dataframe tbody tr th:only-of-type {\n",
       "        vertical-align: middle;\n",
       "    }\n",
       "\n",
       "    .dataframe tbody tr th {\n",
       "        vertical-align: top;\n",
       "    }\n",
       "\n",
       "    .dataframe thead th {\n",
       "        text-align: right;\n",
       "    }\n",
       "</style>\n",
       "<table border=\"1\" class=\"dataframe\">\n",
       "  <thead>\n",
       "    <tr style=\"text-align: right;\">\n",
       "      <th></th>\n",
       "      <th>tweets</th>\n",
       "      <th>class</th>\n",
       "    </tr>\n",
       "  </thead>\n",
       "  <tbody>\n",
       "    <tr>\n",
       "      <th>0</th>\n",
       "      <td>Be aware  dirty step to get money  #staylight ...</td>\n",
       "      <td>figurative</td>\n",
       "    </tr>\n",
       "    <tr>\n",
       "      <th>1</th>\n",
       "      <td>#sarcasm for #people who don't understand #diy...</td>\n",
       "      <td>figurative</td>\n",
       "    </tr>\n",
       "    <tr>\n",
       "      <th>2</th>\n",
       "      <td>@IminworkJeremy @medsingle #DailyMail readers ...</td>\n",
       "      <td>figurative</td>\n",
       "    </tr>\n",
       "    <tr>\n",
       "      <th>3</th>\n",
       "      <td>@wilw Why do I get the feeling you like games?...</td>\n",
       "      <td>figurative</td>\n",
       "    </tr>\n",
       "    <tr>\n",
       "      <th>4</th>\n",
       "      <td>-@TeacherArthurG @rweingarten You probably jus...</td>\n",
       "      <td>figurative</td>\n",
       "    </tr>\n",
       "    <tr>\n",
       "      <th>...</th>\n",
       "      <td>...</td>\n",
       "      <td>...</td>\n",
       "    </tr>\n",
       "    <tr>\n",
       "      <th>81403</th>\n",
       "      <td>Photo: Image via We Heart It http://t.co/ky8Nf...</td>\n",
       "      <td>sarcasm</td>\n",
       "    </tr>\n",
       "    <tr>\n",
       "      <th>81404</th>\n",
       "      <td>I never knew..I better put this out to the Uni...</td>\n",
       "      <td>sarcasm</td>\n",
       "    </tr>\n",
       "    <tr>\n",
       "      <th>81405</th>\n",
       "      <td>hey just wanted to say thanks @ puberty for le...</td>\n",
       "      <td>sarcasm</td>\n",
       "    </tr>\n",
       "    <tr>\n",
       "      <th>81406</th>\n",
       "      <td>I'm sure coverage like the Fox News Special “T...</td>\n",
       "      <td>sarcasm</td>\n",
       "    </tr>\n",
       "    <tr>\n",
       "      <th>81407</th>\n",
       "      <td>@skeyno16 at u13?! I won't believe it until I ...</td>\n",
       "      <td>sarcasm</td>\n",
       "    </tr>\n",
       "  </tbody>\n",
       "</table>\n",
       "<p>81359 rows × 2 columns</p>\n",
       "</div>"
      ],
      "text/plain": [
       "                                                  tweets       class\n",
       "0      Be aware  dirty step to get money  #staylight ...  figurative\n",
       "1      #sarcasm for #people who don't understand #diy...  figurative\n",
       "2      @IminworkJeremy @medsingle #DailyMail readers ...  figurative\n",
       "3      @wilw Why do I get the feeling you like games?...  figurative\n",
       "4      -@TeacherArthurG @rweingarten You probably jus...  figurative\n",
       "...                                                  ...         ...\n",
       "81403  Photo: Image via We Heart It http://t.co/ky8Nf...     sarcasm\n",
       "81404  I never knew..I better put this out to the Uni...     sarcasm\n",
       "81405  hey just wanted to say thanks @ puberty for le...     sarcasm\n",
       "81406  I'm sure coverage like the Fox News Special “T...     sarcasm\n",
       "81407  @skeyno16 at u13?! I won't believe it until I ...     sarcasm\n",
       "\n",
       "[81359 rows x 2 columns]"
      ]
     },
     "execution_count": 6,
     "metadata": {},
     "output_type": "execute_result"
    }
   ],
   "source": [
    "# Remove rows with missing values\n",
    "df = df.dropna()\n",
    "df"
   ]
  },
  {
   "cell_type": "code",
   "execution_count": 7,
   "id": "b3e59840",
   "metadata": {},
   "outputs": [],
   "source": [
    "#Text preprocessing\n",
    "# Lowercasing\n",
    "df['tweets'] = df['tweets'].str.lower()\n",
    "\n",
    "# Punctuation removal\n",
    "def remove_punctuation(text):\n",
    "    text = re.sub(r'[^\\w\\s]', '', text)\n",
    "    return text\n",
    "\n",
    "df['tweets'] = df['tweets'].apply(remove_punctuation)"
   ]
  },
  {
   "cell_type": "code",
   "execution_count": 8,
   "id": "ad63ad97",
   "metadata": {},
   "outputs": [
    {
     "data": {
      "text/html": [
       "<div>\n",
       "<style scoped>\n",
       "    .dataframe tbody tr th:only-of-type {\n",
       "        vertical-align: middle;\n",
       "    }\n",
       "\n",
       "    .dataframe tbody tr th {\n",
       "        vertical-align: top;\n",
       "    }\n",
       "\n",
       "    .dataframe thead th {\n",
       "        text-align: right;\n",
       "    }\n",
       "</style>\n",
       "<table border=\"1\" class=\"dataframe\">\n",
       "  <thead>\n",
       "    <tr style=\"text-align: right;\">\n",
       "      <th></th>\n",
       "      <th>tweets</th>\n",
       "      <th>class</th>\n",
       "    </tr>\n",
       "  </thead>\n",
       "  <tbody>\n",
       "    <tr>\n",
       "      <th>0</th>\n",
       "      <td>be aware  dirty step to get money  staylight s...</td>\n",
       "      <td>figurative</td>\n",
       "    </tr>\n",
       "    <tr>\n",
       "      <th>1</th>\n",
       "      <td>sarcasm for people who dont understand diy art...</td>\n",
       "      <td>figurative</td>\n",
       "    </tr>\n",
       "    <tr>\n",
       "      <th>2</th>\n",
       "      <td>iminworkjeremy medsingle dailymail readers bei...</td>\n",
       "      <td>figurative</td>\n",
       "    </tr>\n",
       "    <tr>\n",
       "      <th>3</th>\n",
       "      <td>wilw why do i get the feeling you like games s...</td>\n",
       "      <td>figurative</td>\n",
       "    </tr>\n",
       "    <tr>\n",
       "      <th>4</th>\n",
       "      <td>teacherarthurg rweingarten you probably just m...</td>\n",
       "      <td>figurative</td>\n",
       "    </tr>\n",
       "    <tr>\n",
       "      <th>...</th>\n",
       "      <td>...</td>\n",
       "      <td>...</td>\n",
       "    </tr>\n",
       "    <tr>\n",
       "      <th>81403</th>\n",
       "      <td>photo image via we heart it httptcoky8nf8z9oi ...</td>\n",
       "      <td>sarcasm</td>\n",
       "    </tr>\n",
       "    <tr>\n",
       "      <th>81404</th>\n",
       "      <td>i never knewi better put this out to the unive...</td>\n",
       "      <td>sarcasm</td>\n",
       "    </tr>\n",
       "    <tr>\n",
       "      <th>81405</th>\n",
       "      <td>hey just wanted to say thanks  puberty for let...</td>\n",
       "      <td>sarcasm</td>\n",
       "    </tr>\n",
       "    <tr>\n",
       "      <th>81406</th>\n",
       "      <td>im sure coverage like the fox news special the...</td>\n",
       "      <td>sarcasm</td>\n",
       "    </tr>\n",
       "    <tr>\n",
       "      <th>81407</th>\n",
       "      <td>skeyno16 at u13 i wont believe it until i see ...</td>\n",
       "      <td>sarcasm</td>\n",
       "    </tr>\n",
       "  </tbody>\n",
       "</table>\n",
       "<p>81359 rows × 2 columns</p>\n",
       "</div>"
      ],
      "text/plain": [
       "                                                  tweets       class\n",
       "0      be aware  dirty step to get money  staylight s...  figurative\n",
       "1      sarcasm for people who dont understand diy art...  figurative\n",
       "2      iminworkjeremy medsingle dailymail readers bei...  figurative\n",
       "3      wilw why do i get the feeling you like games s...  figurative\n",
       "4      teacherarthurg rweingarten you probably just m...  figurative\n",
       "...                                                  ...         ...\n",
       "81403  photo image via we heart it httptcoky8nf8z9oi ...     sarcasm\n",
       "81404  i never knewi better put this out to the unive...     sarcasm\n",
       "81405  hey just wanted to say thanks  puberty for let...     sarcasm\n",
       "81406  im sure coverage like the fox news special the...     sarcasm\n",
       "81407  skeyno16 at u13 i wont believe it until i see ...     sarcasm\n",
       "\n",
       "[81359 rows x 2 columns]"
      ]
     },
     "execution_count": 8,
     "metadata": {},
     "output_type": "execute_result"
    }
   ],
   "source": [
    "df"
   ]
  },
  {
   "cell_type": "code",
   "execution_count": 9,
   "id": "c128ac25",
   "metadata": {},
   "outputs": [],
   "source": [
    "#Tokenization and padding for BERT model\n",
    "# Initialize the BERT tokenizer\n",
    "tokenizer = BertTokenizer.from_pretrained('bert-base-uncased')"
   ]
  },
  {
   "cell_type": "code",
   "execution_count": 10,
   "id": "7bcb990a",
   "metadata": {},
   "outputs": [],
   "source": [
    "# Tokenize and pad the text\n",
    "max_length = 128  # You can adjust this as needed\n",
    "def tokenize_and_pad(text):\n",
    "    tokens = tokenizer.encode(text, add_special_tokens=True, max_length=max_length, truncation=True)\n",
    "    padding_length = max_length - len(tokens)\n",
    "    tokens += [0] * padding_length  # Pad with [PAD] token id (0)\n",
    "    return tokens\n",
    "\n",
    "df['tokens'] = df['tweets'].apply(tokenize_and_pad)"
   ]
  },
  {
   "cell_type": "code",
   "execution_count": 11,
   "id": "d91191e9",
   "metadata": {},
   "outputs": [
    {
     "data": {
      "text/html": [
       "<div>\n",
       "<style scoped>\n",
       "    .dataframe tbody tr th:only-of-type {\n",
       "        vertical-align: middle;\n",
       "    }\n",
       "\n",
       "    .dataframe tbody tr th {\n",
       "        vertical-align: top;\n",
       "    }\n",
       "\n",
       "    .dataframe thead th {\n",
       "        text-align: right;\n",
       "    }\n",
       "</style>\n",
       "<table border=\"1\" class=\"dataframe\">\n",
       "  <thead>\n",
       "    <tr style=\"text-align: right;\">\n",
       "      <th></th>\n",
       "      <th>tweets</th>\n",
       "      <th>class</th>\n",
       "      <th>tokens</th>\n",
       "    </tr>\n",
       "  </thead>\n",
       "  <tbody>\n",
       "    <tr>\n",
       "      <th>0</th>\n",
       "      <td>be aware  dirty step to get money  staylight s...</td>\n",
       "      <td>figurative</td>\n",
       "      <td>[101, 2022, 5204, 6530, 3357, 2000, 2131, 2769...</td>\n",
       "    </tr>\n",
       "    <tr>\n",
       "      <th>1</th>\n",
       "      <td>sarcasm for people who dont understand diy art...</td>\n",
       "      <td>figurative</td>\n",
       "      <td>[101, 20954, 2005, 2111, 2040, 2123, 2102, 330...</td>\n",
       "    </tr>\n",
       "    <tr>\n",
       "      <th>2</th>\n",
       "      <td>iminworkjeremy medsingle dailymail readers bei...</td>\n",
       "      <td>figurative</td>\n",
       "      <td>[101, 10047, 2378, 6198, 20009, 26662, 19960, ...</td>\n",
       "    </tr>\n",
       "    <tr>\n",
       "      <th>3</th>\n",
       "      <td>wilw why do i get the feeling you like games s...</td>\n",
       "      <td>figurative</td>\n",
       "      <td>[101, 19863, 2860, 2339, 2079, 1045, 2131, 199...</td>\n",
       "    </tr>\n",
       "    <tr>\n",
       "      <th>4</th>\n",
       "      <td>teacherarthurg rweingarten you probably just m...</td>\n",
       "      <td>figurative</td>\n",
       "      <td>[101, 3836, 22425, 12514, 1054, 19845, 13807, ...</td>\n",
       "    </tr>\n",
       "    <tr>\n",
       "      <th>...</th>\n",
       "      <td>...</td>\n",
       "      <td>...</td>\n",
       "      <td>...</td>\n",
       "    </tr>\n",
       "    <tr>\n",
       "      <th>81403</th>\n",
       "      <td>photo image via we heart it httptcoky8nf8z9oi ...</td>\n",
       "      <td>sarcasm</td>\n",
       "      <td>[101, 6302, 3746, 3081, 2057, 2540, 2009, 8299...</td>\n",
       "    </tr>\n",
       "    <tr>\n",
       "      <th>81404</th>\n",
       "      <td>i never knewi better put this out to the unive...</td>\n",
       "      <td>sarcasm</td>\n",
       "      <td>[101, 1045, 2196, 2354, 2072, 2488, 2404, 2023...</td>\n",
       "    </tr>\n",
       "    <tr>\n",
       "      <th>81405</th>\n",
       "      <td>hey just wanted to say thanks  puberty for let...</td>\n",
       "      <td>sarcasm</td>\n",
       "      <td>[101, 4931, 2074, 2359, 2000, 2360, 4283, 9047...</td>\n",
       "    </tr>\n",
       "    <tr>\n",
       "      <th>81406</th>\n",
       "      <td>im sure coverage like the fox news special the...</td>\n",
       "      <td>sarcasm</td>\n",
       "      <td>[101, 10047, 2469, 6325, 2066, 1996, 4419, 273...</td>\n",
       "    </tr>\n",
       "    <tr>\n",
       "      <th>81407</th>\n",
       "      <td>skeyno16 at u13 i wont believe it until i see ...</td>\n",
       "      <td>sarcasm</td>\n",
       "      <td>[101, 15315, 3240, 3630, 16048, 2012, 1057, 17...</td>\n",
       "    </tr>\n",
       "  </tbody>\n",
       "</table>\n",
       "<p>81359 rows × 3 columns</p>\n",
       "</div>"
      ],
      "text/plain": [
       "                                                  tweets       class  \\\n",
       "0      be aware  dirty step to get money  staylight s...  figurative   \n",
       "1      sarcasm for people who dont understand diy art...  figurative   \n",
       "2      iminworkjeremy medsingle dailymail readers bei...  figurative   \n",
       "3      wilw why do i get the feeling you like games s...  figurative   \n",
       "4      teacherarthurg rweingarten you probably just m...  figurative   \n",
       "...                                                  ...         ...   \n",
       "81403  photo image via we heart it httptcoky8nf8z9oi ...     sarcasm   \n",
       "81404  i never knewi better put this out to the unive...     sarcasm   \n",
       "81405  hey just wanted to say thanks  puberty for let...     sarcasm   \n",
       "81406  im sure coverage like the fox news special the...     sarcasm   \n",
       "81407  skeyno16 at u13 i wont believe it until i see ...     sarcasm   \n",
       "\n",
       "                                                  tokens  \n",
       "0      [101, 2022, 5204, 6530, 3357, 2000, 2131, 2769...  \n",
       "1      [101, 20954, 2005, 2111, 2040, 2123, 2102, 330...  \n",
       "2      [101, 10047, 2378, 6198, 20009, 26662, 19960, ...  \n",
       "3      [101, 19863, 2860, 2339, 2079, 1045, 2131, 199...  \n",
       "4      [101, 3836, 22425, 12514, 1054, 19845, 13807, ...  \n",
       "...                                                  ...  \n",
       "81403  [101, 6302, 3746, 3081, 2057, 2540, 2009, 8299...  \n",
       "81404  [101, 1045, 2196, 2354, 2072, 2488, 2404, 2023...  \n",
       "81405  [101, 4931, 2074, 2359, 2000, 2360, 4283, 9047...  \n",
       "81406  [101, 10047, 2469, 6325, 2066, 1996, 4419, 273...  \n",
       "81407  [101, 15315, 3240, 3630, 16048, 2012, 1057, 17...  \n",
       "\n",
       "[81359 rows x 3 columns]"
      ]
     },
     "execution_count": 11,
     "metadata": {},
     "output_type": "execute_result"
    }
   ],
   "source": [
    "df"
   ]
  },
  {
   "cell_type": "markdown",
   "id": "a39f67ef",
   "metadata": {},
   "source": [
    "# Step 3: Exploratory Data Analysis (EDA)"
   ]
  },
  {
   "cell_type": "code",
   "execution_count": 12,
   "id": "4eceada4",
   "metadata": {},
   "outputs": [],
   "source": [
    "import matplotlib.pyplot as plt\n",
    "import seaborn as sns"
   ]
  },
  {
   "cell_type": "code",
   "execution_count": null,
   "id": "bad7af2a",
   "metadata": {},
   "outputs": [],
   "source": []
  },
  {
   "cell_type": "code",
   "execution_count": null,
   "id": "88ba8281",
   "metadata": {},
   "outputs": [],
   "source": []
  },
  {
   "cell_type": "code",
   "execution_count": 13,
   "id": "0d854193",
   "metadata": {},
   "outputs": [
    {
     "data": {
      "image/png": "[encoded data removed]",
      "text/plain": [
       "<Figure size 1000x600 with 1 Axes>"
      ]
     },
     "metadata": {},
     "output_type": "display_data"
    }
   ],
   "source": [
    " "
   ]
  },
  {
   "cell_type": "code",
   "execution_count": 14,
   "id": "b0a45ecc",
   "metadata": {},
   "outputs": [
    {
     "data": {
      "image/png": "[encoded data removed]",
      "text/plain": [
       "<Figure size 800x600 with 1 Axes>"
      ]
     },
     "metadata": {},
     "output_type": "display_data"
    }
   ],
   "source": [
    "# Create a bar plot to visualize the sentiment distribution\n",
    "sentiment_counts = df['class'].value_counts()\n",
    "plt.figure(figsize=(8, 6))\n",
    "sns.barplot(x=sentiment_counts.index, y=sentiment_counts.values)\n",
    "plt.title('Sentiment Distribution')\n",
    "plt.xlabel('Sentiment')\n",
    "plt.ylabel('Count')\n",
    "plt.xticks(rotation=45)\n",
    "plt.show()"
   ]
  },
  {
   "cell_type": "code",
   "execution_count": 15,
   "id": "77aef5d2",
   "metadata": {},
   "outputs": [
    {
     "data": {
      "image/png": "[encoded data removed]",
      "text/plain": [
       "<Figure size 800x800 with 1 Axes>"
      ]
     },
     "metadata": {},
     "output_type": "display_data"
    }
   ],
   "source": [
    "# Create a pie chart to visualize the sentiment distribution\n",
    "plt.figure(figsize=(8, 8))\n",
    "plt.pie(sentiment_counts, labels=sentiment_counts.index, autopct='%1.1f%%', startangle=140)\n",
    "plt.title('Sentiment Distribution (Pie Chart)')\n",
    "plt.show()"
   ]
  },
  {
   "cell_type": "code",
   "execution_count": 16,
   "id": "840ebe54",
   "metadata": {},
   "outputs": [
    {
     "name": "stderr",
     "output_type": "stream",
     "text": [
      "C:\\Users\\Usee\\AppData\\Local\\Temp\\ipykernel_12084\\220788851.py:3: FutureWarning: \n",
      "\n",
      "`shade` is now deprecated in favor of `fill`; setting `fill=True`.\n",
      "This will become an error in seaborn v0.14.0; please update your code.\n",
      "\n",
      "  sns.kdeplot(df['tweet_length'][df['class'] == 'Regular'], label='Regular', shade=True)\n",
      "C:\\Users\\Usee\\AppData\\Local\\Temp\\ipykernel_12084\\220788851.py:4: FutureWarning: \n",
      "\n",
      "`shade` is now deprecated in favor of `fill`; setting `fill=True`.\n",
      "This will become an error in seaborn v0.14.0; please update your code.\n",
      "\n",
      "  sns.kdeplot(df['tweet_length'][df['class'] == 'Sarcasm'], label='Sarcasm', shade=True)\n",
      "C:\\Users\\Usee\\AppData\\Local\\Temp\\ipykernel_12084\\220788851.py:5: FutureWarning: \n",
      "\n",
      "`shade` is now deprecated in favor of `fill`; setting `fill=True`.\n",
      "This will become an error in seaborn v0.14.0; please update your code.\n",
      "\n",
      "  sns.kdeplot(df['tweet_length'][df['class'] == 'Irony'], label='Irony', shade=True)\n",
      "C:\\Users\\Usee\\AppData\\Local\\Temp\\ipykernel_12084\\220788851.py:6: FutureWarning: \n",
      "\n",
      "`shade` is now deprecated in favor of `fill`; setting `fill=True`.\n",
      "This will become an error in seaborn v0.14.0; please update your code.\n",
      "\n",
      "  sns.kdeplot(df['tweet_length'][df['class'] == 'Figurative'], label='Figurative', shade=True)\n",
      "No artists with labels found to put in legend.  Note that artists whose label start with an underscore are ignored when legend() is called with no argument.\n"
     ]
    },
    {
     "data": {
      "image/png": "[encoded data removed]",
      "text/plain": [
       "<Figure size 1000x600 with 1 Axes>"
      ]
     },
     "metadata": {},
     "output_type": "display_data"
    }
   ],
   "source": [
    "# Create a density plot to visualize the relationship between tweet length and sentiment\n",
    "plt.figure(figsize=(10, 6))\n",
    "sns.kdeplot(df['tweet_length'][df['class'] == 'Regular'], label='Regular', shade=True)\n",
    "sns.kdeplot(df['tweet_length'][df['class'] == 'Sarcasm'], label='Sarcasm', shade=True)\n",
    "sns.kdeplot(df['tweet_length'][df['class'] == 'Irony'], label='Irony', shade=True)\n",
    "sns.kdeplot(df['tweet_length'][df['class'] == 'Figurative'], label='Figurative', shade=True)\n",
    "plt.title('Density Plot of Tweet Length by Sentiment')\n",
    "plt.xlabel('Tweet Length')\n",
    "plt.ylabel('Density')\n",
    "plt.legend()\n",
    "plt.show()"
   ]
  },
  {
   "cell_type": "code",
   "execution_count": 17,
   "id": "afac0376",
   "metadata": {},
   "outputs": [],
   "source": [
    "from wordcloud import WordCloud"
   ]
  },
  {
   "cell_type": "code",
   "execution_count": 18,
   "id": "ed8e9086",
   "metadata": {},
   "outputs": [
    {
     "name": "stdout",
     "output_type": "stream",
     "text": [
      "No data available for sentiment class: Sarcasm\n"
     ]
    }
   ],
   "source": [
    "from wordcloud import WordCloud\n",
    "\n",
    "# Example for one sentiment class (repeat for each class if needed)\n",
    "sentiment_class = 'Sarcasm'  # Change to the desired sentiment class\n",
    "class_tweets = df[df['class'] == sentiment_class]['tweets']\n",
    "\n",
    "# Check if there is data for the selected sentiment class\n",
    "if len(class_tweets) > 0:\n",
    "    wordcloud = WordCloud(width=800, height=400, background_color='white').generate(' '.join(class_tweets))\n",
    "\n",
    "    plt.figure(figsize=(10, 6))\n",
    "    plt.imshow(wordcloud, interpolation='bilinear')\n",
    "    plt.title(f'Word Cloud for {sentiment_class} Tweets')\n",
    "    plt.axis('off')\n",
    "    plt.show()\n",
    "else:\n",
    "    print(f'No data available for sentiment class: {sentiment_class}')"
   ]
  },
  {
   "cell_type": "code",
   "execution_count": 19,
   "id": "d1e7b6bc",
   "metadata": {},
   "outputs": [
    {
     "data": {
      "image/png": "[encoded data removed]",
      "text/plain": [
       "<Figure size 1000x600 with 1 Axes>"
      ]
     },
     "metadata": {},
     "output_type": "display_data"
    }
   ],
   "source": [
    "from sklearn.feature_extraction.text import CountVectorizer\n",
    "\n",
    "# Example for bigrams (repeat for trigrams, etc.)\n",
    "bigram_vectorizer = CountVectorizer(ngram_range=(2, 2), stop_words='english')\n",
    "bigram_matrix = bigram_vectorizer.fit_transform(df['tweets'])\n",
    "\n",
    "# Get the most common bigrams\n",
    "bigram_freq = pd.DataFrame(bigram_matrix.sum(axis=0), columns=bigram_vectorizer.get_feature_names_out())\n",
    "top_bigrams = bigram_freq.T.sort_values(by=0, ascending=False).head(10)\n",
    "\n",
    "plt.figure(figsize=(10, 6))\n",
    "sns.barplot(x=top_bigrams[0], y=top_bigrams.index)\n",
    "plt.title('Top Bigrams in Tweets')\n",
    "plt.xlabel('Frequency')\n",
    "plt.ylabel('Bigram')\n",
    "plt.show()"
   ]
  },
  {
   "cell_type": "markdown",
   "id": "ce98eb31",
   "metadata": {},
   "source": [
    "# Step 4: Data Splitting"
   ]
  },
  {
   "cell_type": "code",
   "execution_count": 20,
   "id": "daae78a8",
   "metadata": {},
   "outputs": [],
   "source": [
    "from sklearn.model_selection import train_test_split\n",
    "\n",
    "# Step 4: Data Splitting\n",
    "# Split your dataset into training, validation, and test sets\n",
    "# Typically, an 80-10-10 split is a good starting point\n",
    "\n",
    "# Define the features (X) and target (y)\n",
    "X = df['tweets']  # Assuming 'tweet' is the feature column\n",
    "y = df['class']  # Assuming 'class' is the target column"
   ]
  },
  {
   "cell_type": "code",
   "execution_count": 21,
   "id": "86c26ac0",
   "metadata": {},
   "outputs": [
    {
     "data": {
      "text/plain": [
       "0        be aware  dirty step to get money  staylight s...\n",
       "1        sarcasm for people who dont understand diy art...\n",
       "2        iminworkjeremy medsingle dailymail readers bei...\n",
       "3        wilw why do i get the feeling you like games s...\n",
       "4        teacherarthurg rweingarten you probably just m...\n",
       "                               ...                        \n",
       "81403    photo image via we heart it httptcoky8nf8z9oi ...\n",
       "81404    i never knewi better put this out to the unive...\n",
       "81405    hey just wanted to say thanks  puberty for let...\n",
       "81406    im sure coverage like the fox news special the...\n",
       "81407    skeyno16 at u13 i wont believe it until i see ...\n",
       "Name: tweets, Length: 81359, dtype: object"
      ]
     },
     "execution_count": 21,
     "metadata": {},
     "output_type": "execute_result"
    }
   ],
   "source": [
    "X"
   ]
  },
  {
   "cell_type": "code",
   "execution_count": 22,
   "id": "67318ad9",
   "metadata": {},
   "outputs": [
    {
     "data": {
      "text/plain": [
       "0        figurative\n",
       "1        figurative\n",
       "2        figurative\n",
       "3        figurative\n",
       "4        figurative\n",
       "            ...    \n",
       "81403       sarcasm\n",
       "81404       sarcasm\n",
       "81405       sarcasm\n",
       "81406       sarcasm\n",
       "81407       sarcasm\n",
       "Name: class, Length: 81359, dtype: object"
      ]
     },
     "execution_count": 22,
     "metadata": {},
     "output_type": "execute_result"
    }
   ],
   "source": [
    "y"
   ]
  },
  {
   "cell_type": "code",
   "execution_count": 23,
   "id": "b89d5093",
   "metadata": {},
   "outputs": [],
   "source": [
    "# Split the data into training (80%) and temporary (20%) sets\n",
    "X_train, X_temp, y_train, y_temp = train_test_split(X, y, test_size=0.2, random_state=42)"
   ]
  },
  {
   "cell_type": "code",
   "execution_count": 24,
   "id": "f498c497",
   "metadata": {},
   "outputs": [],
   "source": [
    "# Further split the temporary set into validation (50%) and test (50%) sets\n",
    "X_val, X_test, y_val, y_test = train_test_split(X_temp, y_temp, test_size=0.5, random_state=42)"
   ]
  },
  {
   "cell_type": "markdown",
   "id": "e14dc454",
   "metadata": {},
   "source": [
    "# Step 5: Feature Engineering and model building"
   ]
  },
  {
   "cell_type": "code",
   "execution_count": 25,
   "id": "309d86da",
   "metadata": {},
   "outputs": [],
   "source": [
    "from sklearn.feature_extraction.text import TfidfVectorizer\n",
    "from sklearn.linear_model import LogisticRegression\n",
    "from sklearn.naive_bayes import MultinomialNB\n",
    "from sklearn.ensemble import RandomForestClassifier\n",
    "from sklearn.svm import SVC\n",
    "from sklearn.ensemble import GradientBoostingClassifier\n",
    "from sklearn.metrics import classification_report, accuracy_score"
   ]
  },
  {
   "cell_type": "code",
   "execution_count": 26,
   "id": "4e89983f",
   "metadata": {},
   "outputs": [],
   "source": [
    "# Step 5: Feature Engineering and Model Training\n",
    "\n",
    "# Feature Engineering: TF-IDF Vectorization\n",
    "tfidf_vectorizer = TfidfVectorizer(max_features=5000)  # You can adjust max_features as needed\n",
    "X_train_tfidf = tfidf_vectorizer.fit_transform(X_train)\n",
    "X_val_tfidf = tfidf_vectorizer.transform(X_val)\n",
    "X_test_tfidf = tfidf_vectorizer.transform(X_test)"
   ]
  },
  {
   "cell_type": "code",
   "execution_count": 27,
   "id": "a1e5881b",
   "metadata": {},
   "outputs": [
    {
     "name": "stdout",
     "output_type": "stream",
     "text": [
      "Training Logistic Regression...\n",
      "Evaluating Logistic Regression on Validation Set...\n",
      "Accuracy: 0.7136\n",
      "              precision    recall  f1-score   support\n",
      "\n",
      "  figurative       0.21      0.04      0.07      2092\n",
      "       irony       0.66      0.93      0.77      2123\n",
      "     regular       0.99      1.00      1.00      1836\n",
      "     sarcasm       0.66      0.92      0.77      2085\n",
      "\n",
      "    accuracy                           0.71      8136\n",
      "   macro avg       0.63      0.72      0.65      8136\n",
      "weighted avg       0.62      0.71      0.64      8136\n",
      "\n",
      "Training Multinomial Naive Bayes...\n",
      "Evaluating Multinomial Naive Bayes on Validation Set...\n",
      "Accuracy: 0.6118\n",
      "              precision    recall  f1-score   support\n",
      "\n",
      "  figurative       0.29      0.26      0.27      2092\n",
      "       irony       0.62      0.64      0.63      2123\n",
      "     regular       0.94      0.87      0.90      1836\n",
      "     sarcasm       0.63      0.71      0.67      2085\n",
      "\n",
      "    accuracy                           0.61      8136\n",
      "   macro avg       0.62      0.62      0.62      8136\n",
      "weighted avg       0.61      0.61      0.61      8136\n",
      "\n",
      "Training Random Forest...\n",
      "Evaluating Random Forest on Validation Set...\n",
      "Accuracy: 0.6091\n",
      "              precision    recall  f1-score   support\n",
      "\n",
      "  figurative       0.01      0.00      0.01      2092\n",
      "       irony       0.58      0.69      0.63      2123\n",
      "     regular       1.00      1.00      1.00      1836\n",
      "     sarcasm       0.61      0.79      0.69      2085\n",
      "\n",
      "    accuracy                           0.61      8136\n",
      "   macro avg       0.55      0.62      0.58      8136\n",
      "weighted avg       0.54      0.61      0.57      8136\n",
      "\n",
      "Training Support Vector Machine...\n",
      "Evaluating Support Vector Machine on Validation Set...\n",
      "Accuracy: 0.7423\n",
      "              precision    recall  f1-score   support\n",
      "\n",
      "  figurative       0.44      0.01      0.02      2092\n",
      "       irony       0.67      1.00      0.80      2123\n",
      "     regular       1.00      1.00      1.00      1836\n",
      "     sarcasm       0.67      0.99      0.80      2085\n",
      "\n",
      "    accuracy                           0.74      8136\n",
      "   macro avg       0.69      0.75      0.65      8136\n",
      "weighted avg       0.68      0.74      0.64      8136\n",
      "\n",
      "Training Gradient Boosting...\n",
      "Evaluating Gradient Boosting on Validation Set...\n",
      "Accuracy: 0.7418\n",
      "              precision    recall  f1-score   support\n",
      "\n",
      "  figurative       0.37      0.01      0.01      2092\n",
      "       irony       0.67      1.00      0.80      2123\n",
      "     regular       1.00      1.00      1.00      1836\n",
      "     sarcasm       0.67      0.99      0.80      2085\n",
      "\n",
      "    accuracy                           0.74      8136\n",
      "   macro avg       0.68      0.75      0.65      8136\n",
      "weighted avg       0.67      0.74      0.64      8136\n",
      "\n"
     ]
    }
   ],
   "source": [
    "# Define a list of machine learning models to try\n",
    "models = [\n",
    "    ('Logistic Regression', LogisticRegression(max_iter=1000)),\n",
    "    ('Multinomial Naive Bayes', MultinomialNB()),\n",
    "    ('Random Forest', RandomForestClassifier(n_estimators=100, random_state=42)),\n",
    "    ('Support Vector Machine', SVC(kernel='linear')),\n",
    "    ('Gradient Boosting', GradientBoostingClassifier(n_estimators=100, random_state=42))\n",
    "]\n",
    "\n",
    "# Iterate through models, train, and evaluate\n",
    "for model_name, model in models:\n",
    "    print(f\"Training {model_name}...\")\n",
    "    model.fit(X_train_tfidf, y_train)\n",
    "\n",
    "    print(f\"Evaluating {model_name} on Validation Set...\")\n",
    "    y_val_pred = model.predict(X_val_tfidf)\n",
    "    accuracy = accuracy_score(y_val, y_val_pred)\n",
    "    print(f\"Accuracy: {accuracy:.4f}\")\n",
    "    print(classification_report(y_val, y_val_pred))"
   ]
  },
  {
   "cell_type": "code",
   "execution_count": 28,
   "id": "aa5fc7e1",
   "metadata": {},
   "outputs": [],
   "source": [
    "#////////////////////////////////////////////////////////////////////////////////////////////////////////"
   ]
  },
  {
   "cell_type": "code",
   "execution_count": 29,
   "id": "520a3393",
   "metadata": {},
   "outputs": [
    {
     "data": {
      "text/html": [
       "<style>#sk-container-id-1 {color: black;background-color: white;}#sk-container-id-1 pre{padding: 0;}#sk-container-id-1 div.sk-toggleable {background-color: white;}#sk-container-id-1 label.sk-toggleable__label {cursor: pointer;display: block;width: 100%;margin-bottom: 0;padding: 0.3em;box-sizing: border-box;text-align: center;}#sk-container-id-1 label.sk-toggleable__label-arrow:before {content: \"▸\";float: left;margin-right: 0.25em;color: #696969;}#sk-container-id-1 label.sk-toggleable__label-arrow:hover:before {color: black;}#sk-container-id-1 div.sk-estimator:hover label.sk-toggleable__label-arrow:before {color: black;}#sk-container-id-1 div.sk-toggleable__content {max-height: 0;max-width: 0;overflow: hidden;text-align: left;background-color: #f0f8ff;}#sk-container-id-1 div.sk-toggleable__content pre {margin: 0.2em;color: black;border-radius: 0.25em;background-color: #f0f8ff;}#sk-container-id-1 input.sk-toggleable__control:checked~div.sk-toggleable__content {max-height: 200px;max-width: 100%;overflow: auto;}#sk-container-id-1 input.sk-toggleable__control:checked~label.sk-toggleable__label-arrow:before {content: \"▾\";}#sk-container-id-1 div.sk-estimator input.sk-toggleable__control:checked~label.sk-toggleable__label {background-color: #d4ebff;}#sk-container-id-1 div.sk-label input.sk-toggleable__control:checked~label.sk-toggleable__label {background-color: #d4ebff;}#sk-container-id-1 input.sk-hidden--visually {border: 0;clip: rect(1px 1px 1px 1px);clip: rect(1px, 1px, 1px, 1px);height: 1px;margin: -1px;overflow: hidden;padding: 0;position: absolute;width: 1px;}#sk-container-id-1 div.sk-estimator {font-family: monospace;background-color: #f0f8ff;border: 1px dotted black;border-radius: 0.25em;box-sizing: border-box;margin-bottom: 0.5em;}#sk-container-id-1 div.sk-estimator:hover {background-color: #d4ebff;}#sk-container-id-1 div.sk-parallel-item::after {content: \"\";width: 100%;border-bottom: 1px solid gray;flex-grow: 1;}#sk-container-id-1 div.sk-label:hover label.sk-toggleable__label {background-color: #d4ebff;}#sk-container-id-1 div.sk-serial::before {content: \"\";position: absolute;border-left: 1px solid gray;box-sizing: border-box;top: 0;bottom: 0;left: 50%;z-index: 0;}#sk-container-id-1 div.sk-serial {display: flex;flex-direction: column;align-items: center;background-color: white;padding-right: 0.2em;padding-left: 0.2em;position: relative;}#sk-container-id-1 div.sk-item {position: relative;z-index: 1;}#sk-container-id-1 div.sk-parallel {display: flex;align-items: stretch;justify-content: center;background-color: white;position: relative;}#sk-container-id-1 div.sk-item::before, #sk-container-id-1 div.sk-parallel-item::before {content: \"\";position: absolute;border-left: 1px solid gray;box-sizing: border-box;top: 0;bottom: 0;left: 50%;z-index: -1;}#sk-container-id-1 div.sk-parallel-item {display: flex;flex-direction: column;z-index: 1;position: relative;background-color: white;}#sk-container-id-1 div.sk-parallel-item:first-child::after {align-self: flex-end;width: 50%;}#sk-container-id-1 div.sk-parallel-item:last-child::after {align-self: flex-start;width: 50%;}#sk-container-id-1 div.sk-parallel-item:only-child::after {width: 0;}#sk-container-id-1 div.sk-dashed-wrapped {border: 1px dashed gray;margin: 0 0.4em 0.5em 0.4em;box-sizing: border-box;padding-bottom: 0.4em;background-color: white;}#sk-container-id-1 div.sk-label label {font-family: monospace;font-weight: bold;display: inline-block;line-height: 1.2em;}#sk-container-id-1 div.sk-label-container {text-align: center;}#sk-container-id-1 div.sk-container {/* jupyter's `normalize.less` sets `[hidden] { display: none; }` but bootstrap.min.css set `[hidden] { display: none !important; }` so we also need the `!important` here to be able to override the default hidden behavior on the sphinx rendered scikit-learn.org. See: https://github.com/scikit-learn/scikit-learn/issues/21755 */display: inline-block !important;position: relative;}#sk-container-id-1 div.sk-text-repr-fallback {display: none;}</style><div id=\"sk-container-id-1\" class=\"sk-top-container\"><div class=\"sk-text-repr-fallback\"><pre>SVC(kernel=&#x27;linear&#x27;)</pre><b>In a Jupyter environment, please rerun this cell to show the HTML representation or trust the notebook. <br />On GitHub, the HTML representation is unable to render, please try loading this page with nbviewer.org.</b></div><div class=\"sk-container\" hidden><div class=\"sk-item\"><div class=\"sk-estimator sk-toggleable\"><input class=\"sk-toggleable__control sk-hidden--visually\" id=\"sk-estimator-id-1\" type=\"checkbox\" checked><label for=\"sk-estimator-id-1\" class=\"sk-toggleable__label sk-toggleable__label-arrow\">SVC</label><div class=\"sk-toggleable__content\"><pre>SVC(kernel=&#x27;linear&#x27;)</pre></div></div></div></div></div>"
      ],
      "text/plain": [
       "SVC(kernel='linear')"
      ]
     },
     "execution_count": 29,
     "metadata": {},
     "output_type": "execute_result"
    }
   ],
   "source": [
    "# Assuming you have selected the Support Vector Machine (SVM) as your model\n",
    "selected_model = SVC(kernel='linear')\n",
    "selected_model.fit(X_train_tfidf, y_train)"
   ]
  },
  {
   "cell_type": "code",
   "execution_count": 30,
   "id": "0fab76a6",
   "metadata": {},
   "outputs": [
    {
     "name": "stdout",
     "output_type": "stream",
     "text": [
      "Accuracy on Test Set: 0.7432\n",
      "              precision    recall  f1-score   support\n",
      "\n",
      "  figurative       0.41      0.01      0.02      2076\n",
      "       irony       0.68      1.00      0.80      2163\n",
      "     regular       1.00      1.00      1.00      1863\n",
      "     sarcasm       0.66      0.99      0.79      2034\n",
      "\n",
      "    accuracy                           0.74      8136\n",
      "   macro avg       0.69      0.75      0.65      8136\n",
      "weighted avg       0.68      0.74      0.65      8136\n",
      "\n"
     ]
    }
   ],
   "source": [
    "# Evaluate the selected model on the test set\n",
    "y_test_pred = selected_model.predict(X_test_tfidf)\n",
    "test_accuracy = accuracy_score(y_test, y_test_pred)\n",
    "print(f\"Accuracy on Test Set: {test_accuracy:.4f}\")\n",
    "print(classification_report(y_test, y_test_pred))"
   ]
  },
  {
   "cell_type": "markdown",
   "id": "98a607c7",
   "metadata": {},
   "source": [
    "# sentiment analysis"
   ]
  },
  {
   "cell_type": "code",
   "execution_count": null,
   "id": "77a5adb4",
   "metadata": {},
   "outputs": [],
   "source": []
  },
  {
   "cell_type": "code",
   "execution_count": null,
   "id": "5bacdafe",
   "metadata": {},
   "outputs": [],
   "source": []
  },
  {
   "cell_type": "code",
   "execution_count": null,
   "id": "b5ce0a4a",
   "metadata": {},
   "outputs": [],
   "source": []
  },
  {
   "cell_type": "code",
   "execution_count": null,
   "id": "922145ce",
   "metadata": {},
   "outputs": [],
   "source": []
  },
  {
   "cell_type": "code",
   "execution_count": null,
   "id": "54564d76",
   "metadata": {},
   "outputs": [],
   "source": []
  },
  {
   "cell_type": "raw",
   "id": "0b39bf13",
   "metadata": {},
   "source": [
    "# Example input text for testing\n",
    "input_text = \"She said the most ironic thing during the meeting\"\n",
    "\n",
    "# Preprocess the input text (you may need to apply the same preprocessing steps as during training)\n",
    "input_text = input_text.lower()\n",
    "input_text = remove_punctuation(input_text)  # Assuming you have the remove_punctuation function defined\n",
    "\n",
    "# Tokenize and convert the input text to TF-IDF features\n",
    "input_features = tfidf_vectorizer.transform([input_text])  # Use the same vectorizer you used during training\n",
    "\n",
    "# Make predictions\n",
    "predicted_label = selected_model.predict(input_features)[0]  # Get the predicted label directly\n",
    "\n",
    "print(f\"Predicted Class: {predicted_label}\")\n"
   ]
  },
  {
   "cell_type": "code",
   "execution_count": null,
   "id": "d9cfa294",
   "metadata": {},
   "outputs": [],
   "source": []
  },
  {
   "cell_type": "code",
   "execution_count": null,
   "id": "522ba976",
   "metadata": {},
   "outputs": [],
   "source": []
  },
  {
   "cell_type": "raw",
   "id": "334e7f8d",
   "metadata": {},
   "source": [
    "import joblib\n",
    "\n",
    "# Save your trained model to a file\n",
    "joblib.dump(model, 'your_model_file.pkl')\n",
    "\n",
    "# Save your vectorizer to a file\n",
    "joblib.dump(tfidf_vectorizer, 'your_vectorizer_file.pkl')\n"
   ]
  },
  {
   "cell_type": "raw",
   "id": "f057b55e",
   "metadata": {},
   "source": [
    "import joblib\n",
    "\n",
    "# Save your trained model to a file\n",
    "joblib.dump(model, 'your_model_file.pkl')\n",
    "\n",
    "# Save your vectorizer to a file\n",
    "joblib.dump(tfidf_vectorizer, 'your_vectorizer_file.pkl')\n",
    "\n",
    "# Optionally, save the class labels (if you have them)\n",
    "class_labels = ['figurative', 'irony', 'regular', 'sarcasm']\n",
    "joblib.dump(class_labels, 'class_labels.pkl')"
   ]
  },
  {
   "cell_type": "code",
   "execution_count": null,
   "id": "2bc17ff0",
   "metadata": {},
   "outputs": [],
   "source": []
  },
  {
   "cell_type": "code",
   "execution_count": null,
   "id": "0c853573",
   "metadata": {},
   "outputs": [],
   "source": [
    "#She said the most ironic thing during the meeting = irony\n",
    "#The novel's plot was so figurative that it left me perplexed = regular\n",
    "#That was the most sarcastic comment I've ever heard = sarcasm"
   ]
  },
  {
   "cell_type": "code",
   "execution_count": 40,
   "id": "fb219013",
   "metadata": {},
   "outputs": [
    {
     "name": "stdout",
     "output_type": "stream",
     "text": [
      "Predicted Class: regular\n",
      "Predicted Sentiment: neutral\n"
     ]
    }
   ],
   "source": [
    " # Example input text for testing\n",
    "input_text = \"The novel's plot was so figurative that it left me perplexed\"\n",
    "\n",
    "# Preprocess the input text (you may need to apply the same preprocessing steps as during training)\n",
    "input_text = input_text.lower()\n",
    "input_text = remove_punctuation(input_text)  # Assuming you have the remove_punctuation function defined\n",
    "\n",
    "# Tokenize and convert the input text to TF-IDF features\n",
    "input_features = tfidf_vectorizer.transform([input_text])  # Use the same vectorizer you used during training\n",
    "\n",
    "# Predict class label\n",
    "predicted_class = selected_model.predict(input_features)[0]\n",
    "\n",
    "# Map class label to sentiment\n",
    "class_to_sentiment_mapping = {\n",
    "    'irony': 'negative',\n",
    "    'sarcasm': 'negative',\n",
    "    'regular': 'neutral',\n",
    "    'figurative': 'positive'\n",
    "}\n",
    "predicted_sentiment = class_to_sentiment_mapping.get(predicted_class, 'unknown')\n",
    "\n",
    "print(f\"Predicted Class: {predicted_class}\")\n",
    "print(f\"Predicted Sentiment: {predicted_sentiment}\")"
   ]
  },
  {
   "cell_type": "code",
   "execution_count": null,
   "id": "642cf607",
   "metadata": {},
   "outputs": [],
   "source": []
  },
  {
   "cell_type": "code",
   "execution_count": 39,
   "id": "304f5421",
   "metadata": {},
   "outputs": [],
   "source": [
    "#//////////////////////////////////////////////////////////////////////////////////////////////////////////////////////"
   ]
  },
  {
   "cell_type": "code",
   "execution_count": 34,
   "id": "3b03f6bd",
   "metadata": {},
   "outputs": [
    {
     "name": "stdout",
     "output_type": "stream",
     "text": [
      "Model saved to ttrmodel.pkl\n",
      "Vectorizer saved to vectorizer.pkl\n"
     ]
    }
   ],
   "source": [
    "import joblib\n",
    "\n",
    "# Define file paths to save the models and vectorizer\n",
    "model_file_path = 'ttrmodel.pkl'  # Adjust the file name as needed\n",
    "vectorizer_file_path = 'vectorizer.pkl'  # Adjust the file name as needed\n",
    "\n",
    "# Save the selected model to a file\n",
    "joblib.dump(selected_model, model_file_path)\n",
    "\n",
    "# Save the TF-IDF vectorizer to a file\n",
    "joblib.dump(tfidf_vectorizer, vectorizer_file_path)\n",
    "\n",
    "print(f\"Model saved to {model_file_path}\")\n",
    "print(f\"Vectorizer saved to {vectorizer_file_path}\")"
   ]
  },
  {
   "cell_type": "code",
   "execution_count": 35,
   "id": "4efaf14c",
   "metadata": {},
   "outputs": [
    {
     "name": "stdout",
     "output_type": "stream",
     "text": [
      "Model file size: 8237977 bytes\n",
      "Vectorizer file size: 1664368 bytes\n"
     ]
    }
   ],
   "source": [
    "import os\n",
    "\n",
    "model_file_path = 'ttrmodel.pkl'\n",
    "vectorizer_file_path = 'vectorizer.pkl'\n",
    "\n",
    "print(f\"Model file size: {os.path.getsize(model_file_path)} bytes\")\n",
    "print(f\"Vectorizer file size: {os.path.getsize(vectorizer_file_path)} bytes\")"
   ]
  },
  {
   "cell_type": "code",
   "execution_count": 46,
   "id": "c8aa159c",
   "metadata": {},
   "outputs": [
    {
     "name": "stdout",
     "output_type": "stream",
     "text": [
      "1.1.1\n"
     ]
    }
   ],
   "source": [
    "import joblib\n",
    "print(joblib.__version__)"
   ]
  },
  {
   "cell_type": "code",
   "execution_count": null,
   "id": "6597072b",
   "metadata": {},
   "outputs": [],
   "source": []
  },
  {
   "cell_type": "code",
   "execution_count": null,
   "id": "3473b5e4",
   "metadata": {},
   "outputs": [],
   "source": []
  },
  {
   "cell_type": "code",
   "execution_count": null,
   "id": "af50d8ad",
   "metadata": {},
   "outputs": [],
   "source": []
  }
 ],
 "metadata": {
  "kernelspec": {
   "display_name": "Python 3 (ipykernel)",
   "language": "python",
   "name": "python3"
  },
  "language_info": {
   "codemirror_mode": {
    "name": "ipython",
    "version": 3
   },
   "file_extension": ".py",
   "mimetype": "text/x-python",
   "name": "python",
   "nbconvert_exporter": "python",
   "pygments_lexer": "ipython3",
   "version": "3.10.9"
  }
 },
 "nbformat": 4,
 "nbformat_minor": 5
}
